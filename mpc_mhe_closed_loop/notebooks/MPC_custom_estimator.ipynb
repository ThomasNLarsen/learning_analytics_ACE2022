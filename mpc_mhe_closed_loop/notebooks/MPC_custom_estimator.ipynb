{
 "cells": [
  {
   "cell_type": "code",
   "execution_count": 12,
   "metadata": {},
   "outputs": [],
   "source": [
    "#from numba import jit, cuda\n",
    "import numpy as np\n",
    "import pandas as pd\n",
    "import seaborn as sns\n",
    "import matplotlib.pyplot as plt\n",
    "import scipy.stats as stats\n",
    "from random import gauss\n",
    "%matplotlib inline"
   ]
  },
  {
   "cell_type": "markdown",
   "metadata": {},
   "source": [
    "## Step 1: Generate Questions and Students\n",
    "<ol>\n",
    "    <li>Number of Student = S</li>\n",
    "    <li>Number of Questions = C</li>\n",
    "    <li>Number of Skills = K</li>\n",
    "</ol>"
   ]
  },
  {
   "cell_type": "code",
   "execution_count": 13,
   "metadata": {},
   "outputs": [],
   "source": [
    "# HYPERPARAMETERS\n",
    "S = 50      # students\n",
    "C = 10000   # questions\n",
    "K = 10      # skills"
   ]
  },
  {
   "cell_type": "code",
   "execution_count": 14,
   "metadata": {},
   "outputs": [
    {
     "data": {
      "text/plain": "<AxesSubplot:ylabel='Count'>"
     },
     "execution_count": 14,
     "metadata": {},
     "output_type": "execute_result"
    },
    {
     "data": {
      "text/plain": "<Figure size 432x288 with 1 Axes>",
      "image/png": "[encoded data removed]"
     },
     "metadata": {
      "needs_background": "light"
     },
     "output_type": "display_data"
    }
   ],
   "source": [
    "# APPROACH 1 -- Generate Students and Questions as independent variables\n",
    "lower, upper = 0, 1\n",
    "s_mu, s_sigma = 0.25, 0.15  # Mean in 0.25 since assumed low initial skills level\n",
    "q_mu1, q_sigma1 = 0.25, 0.25\n",
    "q_mu2, q_sigma2 = 0.75, 0.25\n",
    "students = stats.truncnorm.rvs((lower-s_mu)/s_sigma,(upper-s_mu)/s_sigma,loc=s_mu,scale=s_sigma,size=(S,K))\n",
    "questions = stats.truncnorm.rvs((lower-q_mu1)/q_sigma1,(upper-q_mu1)/q_sigma1,loc=q_mu1,scale=q_sigma1,size=(C,K))\n",
    "questions = np.append(questions, stats.truncnorm.rvs((lower-q_mu2)/q_sigma2,(upper-q_mu2)/q_sigma2,loc=q_mu2,scale=q_sigma2,size=(C,K))).reshape(-1,K)\n",
    "#questions = np.random.uniform(size=(C,K))\n",
    "student_norms = np.linalg.norm(students, axis=1)\n",
    "question_norms = np.linalg.norm(questions, axis=1)\n",
    "sns.histplot(questions)"
   ]
  },
  {
   "cell_type": "code",
   "execution_count": 15,
   "metadata": {},
   "outputs": [],
   "source": [
    "# # APPROACH 2 -- Generate Performance Matrix Y (S x C) and use MF to find students, questions\n",
    "# lower, upper = 0, 1\n",
    "# p_mu, p_sigma = 0.5, 0.20\n",
    "# performance = stats.truncnorm.rvs((lower-p_mu)/p_sigma,(upper-p_mu)/p_sigma,loc=p_mu,scale=p_sigma,size=(S,C))\n",
    "# #number_of_nan = 12500 # Half of the students\n",
    "# #performance.ravel()[np.random.choice(performance.size, number_of_nan, replace=False)] = np.nan\n",
    "# sns.heatmap(performance)\n",
    "# # Matrix Factorization\n",
    "# from sklearn.decomposition import NMF\n",
    "# model = NMF(n_components=K, random_state=42, max_iter=10000)\n",
    "# students = model.fit_transform(performance)\n",
    "# questions = np.transpose(model.components_)"
   ]
  },
  {
   "cell_type": "markdown",
   "metadata": {},
   "source": [
    "## For the time being better use approach 1\n",
    "## Step 2: Model definition"
   ]
  },
  {
   "cell_type": "code",
   "execution_count": 16,
   "metadata": {},
   "outputs": [],
   "source": [
    "import do_mpc\n",
    "model_type = 'discrete'\n",
    "model = do_mpc.model.Model(model_type)\n",
    "# States\n",
    "x = model.set_variable(var_type='_x', var_name='x', shape=(K,1))\n",
    "z = model.set_variable(var_type='_z', var_name='z', shape=(K,1))\n",
    "y = model.set_variable(var_type='_x', var_name='y', shape=(1,1))\n",
    "#z2 = model.set_variable(var_type='_z', var_name='z2', shape=(1,1))\n",
    "# Inputs\n",
    "u = model.set_variable(var_type='_u', var_name='u', shape=(K,1))\n",
    "# Outputs\n",
    "#y = model.set_meas('y', shape=(1,1))\n",
    "# Parameter for the MHE: Weighting of the arrival cost (parameters):\n",
    "#P_p = model.set_variable(var_type='_p', var_name='P_p')\n",
    "# Time-varying parameter for the MHE: Weighting of the measurements (tvp):\n",
    "#P_v = model.set_variable(var_type='_tvp', var_name='P_v', shape=(5, 5))"
   ]
  },
  {
   "cell_type": "code",
   "execution_count": 17,
   "metadata": {},
   "outputs": [],
   "source": [
    "# State measurements\n",
    "y_meas = model.set_meas('y_meas', y, meas_noise=False)\n",
    "# Model parameters --> required for mhe\n",
    "#Theta_1 = model.set_variable('parameter', 'Theta_1')"
   ]
  },
  {
   "cell_type": "code",
   "execution_count": 18,
   "metadata": {},
   "outputs": [],
   "source": [
    "def circ(x):\n",
    "    return 1- sqrt(1 - (x-1)**2)\n",
    "def gaussian(x, mu, sig):\n",
    "    return exp(-((x - mu)**2) / (2 * (sig**2)))\n",
    "\n",
    "def perturbate():\n",
    "    val = np.random.normal(1, 0.4)\n",
    "    val = 2 - val if val > 1 else val\n",
    "    return val"
   ]
  },
  {
   "cell_type": "code",
   "execution_count": 19,
   "metadata": {
    "collapsed": false,
    "pycharm": {
     "name": "#%%\n"
    }
   },
   "outputs": [
    {
     "name": "stdout",
     "output_type": "stream",
     "text": [
      "For skill 0, x_ik = x_0, and u_jk = u_0\n",
      "For skill 1, x_ik = x_1, and u_jk = u_1\n",
      "For skill 2, x_ik = x_2, and u_jk = u_2\n",
      "For skill 3, x_ik = x_3, and u_jk = u_3\n",
      "For skill 4, x_ik = x_4, and u_jk = u_4\n",
      "For skill 5, x_ik = x_5, and u_jk = u_5\n",
      "For skill 6, x_ik = x_6, and u_jk = u_6\n",
      "For skill 7, x_ik = x_7, and u_jk = u_7\n",
      "For skill 8, x_ik = x_8, and u_jk = u_8\n",
      "For skill 9, x_ik = x_9, and u_jk = u_9\n"
     ]
    }
   ],
   "source": [
    "from casadi import *\n",
    "#x_next = SX()\n",
    "rhs_x = []\n",
    "rhs_y = []\n",
    "\n",
    "gamma = 0.8 # Learning rate\n",
    "\n",
    "alpha = []\n",
    "x_tilde = []\n",
    "y_tilde = []\n",
    "\n",
    "for k in range(K):\n",
    "    # i: student\n",
    "    # j: content\n",
    "    # k: skill\n",
    "\n",
    "    u_k = u[k]  #\n",
    "    x_k = x[k]\n",
    "\n",
    "    print(\"For skill {}, x_ik = {}, and u_jk = {}\".format(k, x_k, u_k))\n",
    "    #print(\"For skill {}, model data[\\'_x\\']={}\".format(k, vars(model)))\n",
    "\n",
    "    # alpha: skill deficiency (for all k) of student_i, given knowledge_i and content_j (requirement)\n",
    "    ## alpha is zero when x_ik > u_jk, between (0,1] otherwise\n",
    "    #alpha = u_jk * fmax(1 - (x_ik / u_jk), 0)\n",
    "    alpha_k = fmax(1 - x_k/u_k,0) * u_k # Between 0 and 1\n",
    "    x_tilde_k = gaussian(alpha_k, (1-x_k)/2, (1-x_k)/5) * perturbate()\n",
    "    y_tilde_k = 1 - alpha_k\n",
    "    #alpha_k = gaussian(fmax(u_k - x_k,0), 0.5, 0.1)\n",
    "    #print(alpha_k)\n",
    "    #y_tilde_k = circ(alpha_k)\n",
    "    #y_tilde_k = 1 - alpha_k\n",
    "    #y_tilde_k = fmax(1 - alpha_k/x_k, 0)\n",
    "    alpha.append(alpha_k)\n",
    "    x_tilde.append(x_tilde_k)\n",
    "    y_tilde.append(y_tilde_k)\n",
    "\n",
    "# Deficiency and skill norms for estimated performance calculation\n",
    "#alpha_norm = norm_2(vertcat(*alpha))   # but before alpha was a number, you need to do it outside the loop at the end\n",
    "#phi_norm = norm_2(x) # same            \n",
    "\n",
    "# Estimated performance\n",
    "improvement = sum1(vertcat(*x_tilde))/K\n",
    "performance = sum1(vertcat(*y_tilde))/K\n",
    "\n",
    "for k in range(K):\n",
    "    u_k = u[k]  #\n",
    "    x_k = x[k]\n",
    "    # Knowledge update term\n",
    "    tau_k   =  improvement * alpha[k]# * (alpha[k] > 0)#y_tilde  * u_k\n",
    "    #tau_k = y_tilde * gaussian(alpha[k], 0.5, 0.1) * gamma\n",
    "    #scalar = scalar * scalar * integer_boolean * scalar\n",
    "\n",
    "    # Append rule to list of right-hand-side equations\n",
    "    rhs_x.append(x_k + tau_k)\n",
    "\n",
    "\n",
    "x_next = vertcat(*rhs_x)\n",
    "y = performance\n",
    "model.set_rhs('x', x_next, process_noise=True)\n",
    "model.set_rhs('y', y, process_noise=True)"
   ]
  },
  {
   "cell_type": "code",
   "execution_count": 20,
   "metadata": {
    "collapsed": false,
    "pycharm": {
     "name": "#%%\n"
    }
   },
   "outputs": [],
   "source": [
    "model.set_expression(expr_name='cost_x', expr=sum1(x**2))\n",
    "model.set_expression(expr_name='alpha', expr=fmax(u - x,0))\n",
    "#model.set_expression(expr_name='y_tilde', expr=circ(fmax(u - x,0)))\n",
    "#model.set_expression(expr_name='y_tilde_tot', expr=sum1(vertcat(*y_tilde))/K)\n",
    "#model.set_expression(expr_name='z', expr=u-x)\n",
    "#model.set_expression(expr_name='cost_x', expr=sum1(fabs(x)))\n",
    "#model.set_expression(expr_name='cost_u', expr=sum1(fabs(u)))\n",
    "#model.set_expression(expr_name='z', expr=z-(u-x)) #z-sum1(u-x))\n",
    "model.set_alg(expr_name='z', expr=z-(u-x))\n",
    "#model.set_alg(expr_name='z_upper', expr=sum1(u-x)>0)"
   ]
  },
  {
   "cell_type": "code",
   "execution_count": 21,
   "metadata": {},
   "outputs": [],
   "source": [
    "model.setup()"
   ]
  },
  {
   "cell_type": "code",
   "execution_count": 24,
   "metadata": {},
   "outputs": [
    {
     "name": "stderr",
     "output_type": "stream",
     "text": [
      "Traceback (most recent call last):\n",
      "  File \"C:\\Program Files\\JetBrains\\PyCharm 2021.1.3\\plugins\\python\\helpers-pro\\jupyter_debug\\pydev_jupyter_utils.py\", line 69, in attach_to_debugger\n",
      "    debugger.prepare_to_run(enable_tracing_from_start=False)\n",
      "TypeError: prepare_to_run() got an unexpected keyword argument 'enable_tracing_from_start'\n",
      "Failed to connect to target debugger.\n"
     ]
    },
    {
     "ename": "RuntimeError",
     "evalue": ".../casadi/core/sx_instantiator.cpp:460: Sparsities of v and vdef must match. Got v: 0x1 and vdef: 0x0.",
     "output_type": "error",
     "traceback": [
      "\u001B[1;31m---------------------------------------------------------------------------\u001B[0m",
      "\u001B[1;31mRuntimeError\u001B[0m                              Traceback (most recent call last)",
      "\u001B[1;32m~\\AppData\\Local\\Temp/ipykernel_2664/106883777.py\u001B[0m in \u001B[0;36m<module>\u001B[1;34m\u001B[0m\n\u001B[0;32m      1\u001B[0m \u001B[1;31m# pydev_debug_cell\u001B[0m\u001B[1;33m\u001B[0m\u001B[1;33m\u001B[0m\u001B[1;33m\u001B[0m\u001B[0m\n\u001B[1;32m----> 2\u001B[1;33m \u001B[0mmhe\u001B[0m \u001B[1;33m=\u001B[0m \u001B[0mdo_mpc\u001B[0m\u001B[1;33m.\u001B[0m\u001B[0mestimator\u001B[0m\u001B[1;33m.\u001B[0m\u001B[0mMHE\u001B[0m\u001B[1;33m(\u001B[0m\u001B[0mmodel\u001B[0m\u001B[1;33m)\u001B[0m\u001B[1;33m\u001B[0m\u001B[1;33m\u001B[0m\u001B[0m\n\u001B[0m\u001B[0;32m      3\u001B[0m setup_mhe = {\n\u001B[0;32m      4\u001B[0m     \u001B[1;34m't_step'\u001B[0m\u001B[1;33m:\u001B[0m \u001B[1;36m1\u001B[0m\u001B[1;33m,\u001B[0m\u001B[1;33m\u001B[0m\u001B[1;33m\u001B[0m\u001B[0m\n\u001B[0;32m      5\u001B[0m     \u001B[1;34m'n_horizon'\u001B[0m\u001B[1;33m:\u001B[0m \u001B[1;36m5\u001B[0m\u001B[1;33m,\u001B[0m\u001B[1;33m\u001B[0m\u001B[1;33m\u001B[0m\u001B[0m\n",
      "\u001B[1;32m~\\Anaconda3\\envs\\LearningAnalytics\\lib\\site-packages\\do_mpc\\estimator.py\u001B[0m in \u001B[0;36m__init__\u001B[1;34m(self, model, p_est_list)\u001B[0m\n\u001B[0;32m    213\u001B[0m \u001B[1;33m\u001B[0m\u001B[0m\n\u001B[0;32m    214\u001B[0m         \u001B[1;31m# In the expression p_cat substitute all variables from _p with the elements from _p_est and _p_set:\u001B[0m\u001B[1;33m\u001B[0m\u001B[1;33m\u001B[0m\u001B[1;33m\u001B[0m\u001B[0m\n\u001B[1;32m--> 215\u001B[1;33m         \u001B[0mp_cat\u001B[0m \u001B[1;33m=\u001B[0m \u001B[0msubstitute\u001B[0m\u001B[1;33m(\u001B[0m\u001B[0mp_cat\u001B[0m\u001B[1;33m,\u001B[0m \u001B[0m_p\u001B[0m\u001B[1;33m,\u001B[0m \u001B[0mvertcat\u001B[0m\u001B[1;33m(\u001B[0m\u001B[1;33m*\u001B[0m\u001B[0m_p_subs\u001B[0m\u001B[1;33m)\u001B[0m\u001B[1;33m)\u001B[0m\u001B[1;33m\u001B[0m\u001B[1;33m\u001B[0m\u001B[0m\n\u001B[0m\u001B[0;32m    216\u001B[0m \u001B[1;33m\u001B[0m\u001B[0m\n\u001B[0;32m    217\u001B[0m         \u001B[1;31m# Function to obtain full set of parameters from the seperate structs (while obeying the order):\u001B[0m\u001B[1;33m\u001B[0m\u001B[1;33m\u001B[0m\u001B[1;33m\u001B[0m\u001B[0m\n",
      "\u001B[1;32m~\\Anaconda3\\envs\\LearningAnalytics\\lib\\site-packages\\casadi\\casadi.py\u001B[0m in \u001B[0;36msubstitute\u001B[1;34m(*args)\u001B[0m\n\u001B[0;32m  22158\u001B[0m \u001B[1;33m\u001B[0m\u001B[0m\n\u001B[0;32m  22159\u001B[0m     \"\"\"\n\u001B[1;32m> 22160\u001B[1;33m     \u001B[1;32mreturn\u001B[0m \u001B[0m_casadi\u001B[0m\u001B[1;33m.\u001B[0m\u001B[0msubstitute\u001B[0m\u001B[1;33m(\u001B[0m\u001B[1;33m*\u001B[0m\u001B[0margs\u001B[0m\u001B[1;33m)\u001B[0m\u001B[1;33m\u001B[0m\u001B[1;33m\u001B[0m\u001B[0m\n\u001B[0m\u001B[0;32m  22161\u001B[0m \u001B[1;33m\u001B[0m\u001B[0m\n\u001B[0;32m  22162\u001B[0m \u001B[1;32mdef\u001B[0m \u001B[0msubstitute_inplace\u001B[0m\u001B[1;33m(\u001B[0m\u001B[1;33m*\u001B[0m\u001B[0margs\u001B[0m\u001B[1;33m)\u001B[0m\u001B[1;33m:\u001B[0m\u001B[1;33m\u001B[0m\u001B[1;33m\u001B[0m\u001B[0m\n",
      "\u001B[1;31mRuntimeError\u001B[0m: .../casadi/core/sx_instantiator.cpp:460: Sparsities of v and vdef must match. Got v: 0x1 and vdef: 0x0."
     ]
    }
   ],
   "source": [
    "mhe = do_mpc.estimator.MHE(model)\n",
    "setup_mhe = {\n",
    "    't_step': 1,\n",
    "    'n_horizon': 5,\n",
    "    'store_full_solution': True,\n",
    "    'meas_from_data': True\n",
    "}\n",
    "mhe.set_param(**setup_mhe)"
   ]
  },
  {
   "cell_type": "code",
   "execution_count": null,
   "metadata": {},
   "outputs": [],
   "source": [
    "P_v = 0#np.diag(np.array([1]))   # Output Noise\n",
    "P_x = np.eye(K+1)                    # State weiggt\n",
    "P_p = 10*np.eye(1)                 # Parameter weight\n",
    "P_w = np.eye(K+1)   # Process Noise\n",
    "\n",
    "mhe.set_default_objective(P_x, None, None, P_w)"
   ]
  },
  {
   "cell_type": "code",
   "execution_count": null,
   "metadata": {},
   "outputs": [],
   "source": [
    "mhe.bounds['lower','_x', 'y'] = 0\n",
    "mhe.bounds['upper','_x', 'y'] = 1"
   ]
  },
  {
   "cell_type": "code",
   "execution_count": null,
   "metadata": {},
   "outputs": [],
   "source": [
    "mhe.setup()"
   ]
  },
  {
   "cell_type": "code",
   "execution_count": null,
   "metadata": {},
   "outputs": [],
   "source": [
    "mpc=do_mpc.controller.MPC(model)\n",
    "setup_mpc = {\n",
    "    'n_horizon': 5,\n",
    "    't_step': 1,\n",
    "    'n_robust': 0,\n",
    "    'state_discretization': 'discrete',\n",
    "    'store_full_solution': True,\n",
    "}\n",
    "mpc.set_param(**setup_mpc)"
   ]
  },
  {
   "cell_type": "code",
   "execution_count": null,
   "metadata": {},
   "outputs": [],
   "source": [
    "lterm = -1*model.aux['cost_x']\n",
    "mterm = -1*model.aux['cost_x']\n",
    "mpc.set_objective(mterm=mterm, lterm=lterm)\n",
    "#mpc.set_rterm(u=0)"
   ]
  },
  {
   "cell_type": "code",
   "execution_count": null,
   "metadata": {},
   "outputs": [],
   "source": [
    "# Lower bounds on states:\n",
    "mpc.bounds['lower','_x', 'x'] = 0\n",
    "\n",
    "# Upper bounds on states\n",
    "mpc.bounds['upper','_x', 'x'] = 1\n",
    "\n",
    "# Lower bounds on skill deficiency:\n",
    "mpc.bounds['lower','_z', 'z'] = 0\n",
    "# # # # Upper bounds on skill deficiency:\n",
    "mpc.bounds['upper','_z', 'z'] = 0.15\n",
    "\n",
    "# Lower bounds on inputs:\n",
    "mpc.bounds['lower','_u', 'u'] = 0\n",
    "# Upper bounds on inputs:\n",
    "mpc.bounds['upper','_u', 'u'] = 1"
   ]
  },
  {
   "cell_type": "code",
   "execution_count": null,
   "metadata": {},
   "outputs": [],
   "source": [
    "mpc.setup()\n"
   ]
  },
  {
   "cell_type": "code",
   "execution_count": null,
   "metadata": {},
   "outputs": [],
   "source": [
    "simulator = do_mpc.simulator.Simulator(model)\n",
    "simulator.set_param(t_step=1)"
   ]
  },
  {
   "cell_type": "code",
   "execution_count": null,
   "metadata": {},
   "outputs": [],
   "source": [
    "simulator.setup()\n"
   ]
  },
  {
   "cell_type": "code",
   "execution_count": null,
   "metadata": {},
   "outputs": [],
   "source": [
    "#estimator = do_mpc.estimator.StateFeedback(model)\n",
    "x0 = np.append(students[4], np.random.uniform(0,1))\n",
    "#mpc.x0 = x0\n",
    "mhe.x0_mhe = x0\n",
    "simulator.x0 = x0\n",
    "#estimator.x0 = x0\n",
    "mhe.set_initial_guess()\n"
   ]
  },
  {
   "cell_type": "code",
   "execution_count": null,
   "metadata": {},
   "outputs": [],
   "source": [
    "import os\n",
    "import sys\n",
    "import inspect\n",
    "\n",
    "currentdir = os.path.dirname(os.path.abspath(inspect.getfile(inspect.currentframe())))\n",
    "parentdir = os.path.dirname(currentdir)\n",
    "sys.path.insert(0, parentdir) \n",
    "from helper_funcs.distance_metrics import Similarity\n"
   ]
  },
  {
   "cell_type": "code",
   "execution_count": null,
   "metadata": {
    "collapsed": false,
    "pycharm": {
     "name": "#%%\n"
    }
   },
   "outputs": [],
   "source": [
    "from helper_funcs.distance_metrics import Similarity\n",
    "\n",
    "def question_selector(u_tilde):\n",
    "    # Library of different similarity metrics to explore\n",
    "    similarity_metrics = Similarity(minimum=1e-20)\n",
    "\n",
    "    # Keeping track of best match and its distance to the optimal input\n",
    "    min_diff = np.inf\n",
    "    best_match = None\n",
    "\n",
    "    # Brute force find the best matching question to the optimal one.\n",
    "    for q in questions:\n",
    "        '''\n",
    "            On the Surprising Behavior of Distance Metrics in High Dimensional Space\n",
    "            https://bib.dbvis.de/uploadedFiles/155.pdf\n",
    "        '''\n",
    "        # Calculate the question's similarity to the optimal solution:\n",
    "        q_diff = similarity_metrics.fractional_distance(q, u_tilde, fraction=0.5)\n",
    "\n",
    "        # Hold on to the temporary best match\n",
    "        if q_diff < min_diff:\n",
    "            min_diff = q_diff\n",
    "            best_match = q\n",
    "            \n",
    "    return best_match.reshape(u_tilde.shape)"
   ]
  },
  {
   "cell_type": "code",
   "execution_count": null,
   "metadata": {},
   "outputs": [],
   "source": [
    "%%capture\n",
    "for i in range(50):\n",
    "    u_tilde = mpc.make_step(x0)\n",
    "    u = question_selector(u_tilde)\n",
    "    y_next = simulator.make_step(u)\n",
    "    x0 = estimator.make_step(y_next)"
   ]
  },
  {
   "cell_type": "code",
   "execution_count": null,
   "metadata": {},
   "outputs": [],
   "source": [
    "mhe_graphics = do_mpc.graphics.Graphics(mhe.data)\n",
    "sim_graphics = do_mpc.graphics.Graphics(simulator.data)\n",
    "#mpc_graphics = do_mpc.graphics.Graphics(mpc.data)\n",
    "from matplotlib import rcParams\n",
    "rcParams['axes.grid'] = True\n",
    "rcParams['font.size'] = 18"
   ]
  },
  {
   "cell_type": "code",
   "execution_count": null,
   "metadata": {},
   "outputs": [],
   "source": [
    "%%capture\n",
    "# We just want to create the plot and not show it right now. This \"inline magic\" surpresses the output.\n",
    "fig, ax = plt.subplots(3, sharex=True, figsize=(16,9))\n",
    "fig.align_ylabels()\n",
    "\n",
    "# We create another figure to plot the parameters:\n",
    "fig_p, ax_p = plt.subplots(1, figsize=(16,4))"
   ]
  },
  {
   "cell_type": "code",
   "execution_count": null,
   "metadata": {},
   "outputs": [],
   "source": [
    "%%capture\n",
    "for g in [sim_graphics, mhe_graphics]:\n",
    "    # Plot the angle positions (phi_1, phi_2, phi_2) on the first axis:\n",
    "    g.add_line(var_type='_x', var_name='x', axis=ax[0])\n",
    "    ax[0].set_prop_cycle(None)\n",
    "    g.add_line(var_type='_u', var_name='u', axis=ax[1])\n",
    "    ax[1].set_prop_cycle(None)\n",
    "\n",
    "    # Plot the set motor positions (phi_m_1_set, phi_m_2_set) on the second axis:\n",
    "    g.add_line(var_type='_x', var_name='y', axis=ax[2])\n",
    "    ax[2].set_prop_cycle(None)\n",
    "\n",
    "    #g.add_line(var_type='_x', var_name='y_meas', axis=ax_p)\n",
    "\n",
    "\n",
    "ax[0].set_ylabel('knowledge')\n",
    "ax[1].set_ylabel('q. difficulty')\n",
    "ax[2].set_ylabel('performance')\n",
    "ax[2].set_xlabel('question #')"
   ]
  },
  {
   "cell_type": "code",
   "execution_count": null,
   "metadata": {},
   "outputs": [],
   "source": [
    "sim_graphics.result_lines"
   ]
  },
  {
   "cell_type": "code",
   "execution_count": null,
   "metadata": {},
   "outputs": [],
   "source": [
    "sim_graphics.result_lines['_x', 'x', 0]"
   ]
  },
  {
   "cell_type": "code",
   "execution_count": null,
   "metadata": {},
   "outputs": [],
   "source": [
    "for line_i in sim_graphics.result_lines.full:\n",
    "    line_i.set_alpha(0.4)\n",
    "    line_i.set_linewidth(6)"
   ]
  },
  {
   "cell_type": "code",
   "execution_count": null,
   "metadata": {},
   "outputs": [],
   "source": [
    "ax[0].legend(sim_graphics.result_lines['_x', 'x'], '123', title='Sim.', loc='center right')\n",
    "ax[1].legend(mhe_graphics.result_lines['_x', 'x'], '123', title='MHE', loc='center right')"
   ]
  },
  {
   "cell_type": "code",
   "execution_count": null,
   "metadata": {},
   "outputs": [],
   "source": [
    "def random_u(u0):\n",
    "    # Hold the current value with 80% chance or switch to new random value.\n",
    "    u_next = (0.5-np.random.rand(10,1))*np.pi # New candidate value.\n",
    "    switch = np.random.rand() >= 0.8 # switching? 0 or 1.\n",
    "    u0 = (1-switch)*u0 + switch*u_next # Old or new value.\n",
    "    return u0"
   ]
  },
  {
   "cell_type": "code",
   "execution_count": null,
   "metadata": {},
   "outputs": [],
   "source": [
    "%%capture\n",
    "np.random.seed(999) #make it repeatable\n",
    "\n",
    "u0 = np.zeros((10,1))\n",
    "for i in range(50):\n",
    "    u0 = random_u(u0) # Control input\n",
    "    v0 = 0.1*np.random.randn(model.n_v,1) # measurement noise\n",
    "    y0 = simulator.make_step(u0, v0=v0)\n",
    "    x0 = mhe.make_step(y0) # MHE estimation step"
   ]
  },
  {
   "cell_type": "code",
   "execution_count": null,
   "metadata": {},
   "outputs": [],
   "source": [
    "sim_graphics.plot_results()\n",
    "mhe_graphics.plot_results()\n",
    "# Reset the limits on all axes in graphic to show the data.\n",
    "mhe_graphics.reset_axes()\n",
    "\n",
    "# Mark the time after a full horizon is available to the MHE.\n",
    "ax[0].axvline(1)\n",
    "ax[1].axvline(1)\n",
    "ax[2].axvline(1)\n",
    "\n",
    "# Show the figure:\n",
    "fig"
   ]
  },
  {
   "cell_type": "code",
   "execution_count": null,
   "metadata": {},
   "outputs": [],
   "source": [
    "%%capture\n",
    "fig, ax = plt.subplots(3, sharex=True, figsize=(16,12))\n",
    "# Configure plot:\n",
    "mpc_graphics.add_line(var_type='_x', var_name='x', axis=ax[0])\n",
    "mpc_graphics.add_line(var_type='_u', var_name='u', axis=ax[1])\n",
    "mpc_graphics.add_line(var_type='_aux', var_name='cost_x', axis=ax[2])\n",
    "#mpc_graphics.add_line(var_type='_z', var_name='z', axis=ax[3])\n",
    "ax[0].set_ylabel('Knowledge')\n",
    "ax[1].set_ylabel('Question difficulty')\n",
    "ax[2].set_ylabel('Total knowledge')\n",
    "#ax[3].set_ylabel('Skill deficiency')\n",
    "fig.align_ylabels()"
   ]
  },
  {
   "cell_type": "code",
   "execution_count": null,
   "metadata": {},
   "outputs": [],
   "source": [
    "from matplotlib.animation import FuncAnimation, ImageMagickWriter"
   ]
  },
  {
   "cell_type": "code",
   "execution_count": null,
   "metadata": {},
   "outputs": [],
   "source": [
    "def update(t_ind):\n",
    "    print('Writing frame: {}.'.format(t_ind), end='\\r')\n",
    "    mpc_graphics.plot_results(t_ind=t_ind)\n",
    "    mpc_graphics.plot_predictions(t_ind=t_ind)\n",
    "    mpc_graphics.reset_axes()\n",
    "    lines = mpc_graphics.result_lines.full\n",
    "    return lines\n",
    "\n",
    "n_steps = mpc.data['_time'].shape[0]\n",
    "\n",
    "\n",
    "anim = FuncAnimation(fig, update, frames=n_steps, blit=True)\n",
    "\n",
    "gif_writer = ImageMagickWriter(fps=5)\n",
    "anim.save('simulation.gif', writer=gif_writer)"
   ]
  },
  {
   "cell_type": "code",
   "execution_count": null,
   "metadata": {
    "pycharm": {
     "name": "#%%\n"
    }
   },
   "outputs": [],
   "source": [
    "import matplotlib.pyplot as plt\n",
    "fig, ax, graphics = do_mpc.graphics.default_plot(mpc.data, figsize=(16,9), dpi=200)\n",
    "graphics.reset_axes()\n",
    "graphics.plot_results()\n",
    "plt.show()\n",
    "\n"
   ]
  },
  {
   "cell_type": "code",
   "execution_count": null,
   "metadata": {},
   "outputs": [],
   "source": []
  },
  {
   "cell_type": "code",
   "execution_count": null,
   "metadata": {},
   "outputs": [],
   "source": []
  }
 ],
 "metadata": {
  "interpreter": {
   "hash": "2b5a3609fe7a8a824f3b4b1dbc1b71162fb0992c45f940ad0041e90957c03652"
  },
  "kernelspec": {
   "name": "pycharm-6edab968",
   "language": "python",
   "display_name": "PyCharm (Code)"
  },
  "language_info": {
   "codemirror_mode": {
    "name": "ipython",
    "version": 3
   },
   "file_extension": ".py",
   "mimetype": "text/x-python",
   "name": "python",
   "nbconvert_exporter": "python",
   "pygments_lexer": "ipython3",
   "version": "3.8.8"
  },
  "orig_nbformat": 4
 },
 "nbformat": 4,
 "nbformat_minor": 2
}