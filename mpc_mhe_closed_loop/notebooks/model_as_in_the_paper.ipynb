{
 "cells": [
  {
   "cell_type": "code",
   "execution_count": 63,
   "metadata": {},
   "outputs": [],
   "source": [
    "#from numba import jit, cuda\n",
    "import numpy as np\n",
    "import pandas as pd\n",
    "import seaborn as sns\n",
    "import matplotlib.pyplot as plt\n",
    "import scipy.stats as stats\n",
    "from random import gauss\n",
    "%matplotlib inline"
   ]
  },
  {
   "cell_type": "code",
   "execution_count": 64,
   "metadata": {},
   "outputs": [],
   "source": [
    "# HYPERPARAMETERS\n",
    "S = 50      # students\n",
    "C = 500     # questions\n",
    "K = 10       # skills"
   ]
  },
  {
   "cell_type": "code",
   "execution_count": 65,
   "metadata": {},
   "outputs": [
    {
     "data": {
      "text/plain": [
       "<AxesSubplot:ylabel='Count'>"
      ]
     },
     "execution_count": 65,
     "metadata": {},
     "output_type": "execute_result"
    },
    {
     "data": {
      "image/png": "[encoded data removed]",
      "text/plain": [
       "<Figure size 432x288 with 1 Axes>"
      ]
     },
     "metadata": {
      "needs_background": "light"
     },
     "output_type": "display_data"
    }
   ],
   "source": [
    "# APPROACH 1 -- Generate Students and Questions as independent variables\n",
    "lower, upper = 0, 1\n",
    "s_mu, s_sigma = 0.25, 0.15  # Mean in 0.25 since assumed low initial skills level\n",
    "q_mu, q_sigma = 0.5, 0.15\n",
    "students = stats.truncnorm.rvs((lower-s_mu)/s_sigma,(upper-s_mu)/s_sigma,loc=s_mu,scale=s_sigma,size=(S,K))\n",
    "questions = stats.truncnorm.rvs((lower-q_mu)/q_sigma,(upper-q_mu)/q_sigma,loc=q_mu,scale=q_sigma,size=(C,K))\n",
    "student_norms = np.linalg.norm(students, axis=1)\n",
    "question_norms = np.linalg.norm(questions, axis=1)\n",
    "sns.histplot(questions)"
   ]
  },
  {
   "cell_type": "code",
   "execution_count": 66,
   "metadata": {},
   "outputs": [],
   "source": [
    "import do_mpc\n",
    "model_type = 'discrete'\n",
    "model = do_mpc.model.Model(model_type)\n",
    "# States\n",
    "x = model.set_variable(var_type='_x', var_name='x', shape=(K,1))\n",
    "#z = model.set_variable(var_type='_z', var_name='z', shape=(K,1))\n",
    "#z2 = model.set_variable(var_type='_z', var_name='z2', shape=(1,1))\n",
    "# Inputs\n",
    "u = model.set_variable(var_type='_u', var_name='u', shape=(K,1))\n",
    "# Outputs\n",
    "#y = model.set_meas('y', shape=(1,1))"
   ]
  },
  {
   "cell_type": "code",
   "execution_count": 67,
   "metadata": {
    "collapsed": false,
    "pycharm": {
     "name": "#%%\n"
    }
   },
   "outputs": [
    {
     "name": "stdout",
     "output_type": "stream",
     "text": [
      "For skill 0, x_ik = x_0, and u_jk = u_0\n",
      "For skill 1, x_ik = x_1, and u_jk = u_1\n",
      "For skill 2, x_ik = x_2, and u_jk = u_2\n",
      "For skill 3, x_ik = x_3, and u_jk = u_3\n",
      "For skill 4, x_ik = x_4, and u_jk = u_4\n",
      "For skill 5, x_ik = x_5, and u_jk = u_5\n",
      "For skill 6, x_ik = x_6, and u_jk = u_6\n",
      "For skill 7, x_ik = x_7, and u_jk = u_7\n",
      "For skill 8, x_ik = x_8, and u_jk = u_8\n",
      "For skill 9, x_ik = x_9, and u_jk = u_9\n"
     ]
    }
   ],
   "source": [
    "from casadi import *\n",
    "#x_next = SX()\n",
    "rhs = []\n",
    "\n",
    "gamma = 0.8 # Learning rate\n",
    "\n",
    "alpha = []\n",
    "#y_tilde = []\n",
    "\n",
    "for k in range(K):\n",
    "    # i: student\n",
    "    # j: content\n",
    "    # k: skill\n",
    "\n",
    "    u_k = u[k]  #\n",
    "    x_k = x[k]\n",
    "\n",
    "    print(\"For skill {}, x_ik = {}, and u_jk = {}\".format(k, x_k, u_k))\n",
    "    #print(\"For skill {}, model data[\\'_x\\']={}\".format(k, vars(model)))\n",
    "\n",
    "    # alpha: skill deficiency (for all k) of student_i, given knowledge_i and content_j (requirement)\n",
    "    ## alpha is zero when x_ik > u_jk, between (0,1] otherwise\n",
    "    alpha_k = fmax(1 - x_k/u_k,0) * u_k # Between 0 and 1\n",
    "    alpha.append(alpha_k)\n",
    "\n",
    "# Deficiency and skill norms for estimated performance calculation\n",
    "alpha_norm = norm_2(vertcat(*alpha))   # but before alpha was a number, you need to do it outside the loop at the end\n",
    "phi_norm = norm_2(x) # same            \n",
    "\n",
    "# Estimated performance\n",
    "y_tilde = fmax(1 - alpha_norm/phi_norm, 0)\n",
    "\n",
    "for k in range(K):\n",
    "    u_k = u[k]  #\n",
    "    x_k = x[k]\n",
    "    # Knowledge update term\n",
    "    tau_k   = y_tilde * alpha[k] * gamma * u_k# * (alpha[k] > 0) \n",
    "    \n",
    "    # Append rule to list of right-hand-side equations\n",
    "    rhs.append(x_k + tau_k)\n",
    "\n",
    "x_next = vertcat(*rhs)\n",
    "model.set_rhs('x', x_next)"
   ]
  },
  {
   "cell_type": "code",
   "execution_count": 68,
   "metadata": {
    "collapsed": false,
    "pycharm": {
     "name": "#%%\n"
    }
   },
   "outputs": [
    {
     "data": {
      "text/plain": [
       "SX(@1=1, @2=0, [(fmax((@1-(x_0/u_0)),@2)*u_0), (fmax((@1-(x_1/u_1)),@2)*u_1), (fmax((@1-(x_2/u_2)),@2)*u_2), (fmax((@1-(x_3/u_3)),@2)*u_3), (fmax((@1-(x_4/u_4)),@2)*u_4), (fmax((@1-(x_5/u_5)),@2)*u_5), (fmax((@1-(x_6/u_6)),@2)*u_6), (fmax((@1-(x_7/u_7)),@2)*u_7), (fmax((@1-(x_8/u_8)),@2)*u_8), (fmax((@1-(x_9/u_9)),@2)*u_9)])"
      ]
     },
     "execution_count": 68,
     "metadata": {},
     "output_type": "execute_result"
    }
   ],
   "source": [
    "model.set_expression(expr_name='cost_x', expr=sum1(x**2))\n",
    "model.set_expression(expr_name='alpha', expr=fmax(1 - x/u,0) * u)\n",
    "#model.set_expression(expr_name='y_tilde', expr=circ(fmax(u - x,0)))\n",
    "#model.set_expression(expr_name='y_tilde_tot', expr=sum1(vertcat(*y_tilde))/K)\n",
    "#model.set_expression(expr_name='z', expr=u-x)\n",
    "#model.set_expression(expr_name='cost_x', expr=sum1(fabs(x)))\n",
    "#model.set_expression(expr_name='cost_u', expr=sum1(fabs(u)))\n",
    "#model.set_expression(expr_name='z', expr=z-(u-x)) #z-sum1(u-x))\n",
    "#model.set_alg(expr_name='z', expr=z-(u-x))\n",
    "#model.set_alg(expr_name='z_upper', expr=sum1(u-x)>0)"
   ]
  },
  {
   "cell_type": "code",
   "execution_count": 69,
   "metadata": {},
   "outputs": [],
   "source": [
    "model.setup()"
   ]
  },
  {
   "cell_type": "code",
   "execution_count": 70,
   "metadata": {},
   "outputs": [],
   "source": [
    "mpc=do_mpc.controller.MPC(model)\n",
    "setup_mpc = {\n",
    "    'n_horizon': 5,\n",
    "    't_step': 1,\n",
    "    'n_robust': 0,\n",
    "    'state_discretization': 'discrete',\n",
    "    'store_full_solution': True,\n",
    "}\n",
    "mpc.set_param(**setup_mpc)"
   ]
  },
  {
   "cell_type": "code",
   "execution_count": 71,
   "metadata": {},
   "outputs": [],
   "source": [
    "lterm = -1*model.aux['cost_x']\n",
    "mterm = -0.5*model.aux['cost_x']\n",
    "mpc.set_objective(mterm=mterm, lterm=lterm)\n",
    "#mpc.set_rterm(u=0)"
   ]
  },
  {
   "cell_type": "code",
   "execution_count": 72,
   "metadata": {},
   "outputs": [],
   "source": [
    "# Lower bounds on states:\n",
    "#mpc.bounds['lower','_x', 'x'] = 0\n",
    "\n",
    "# Upper bounds on states\n",
    "#mpc.bounds['upper','_x', 'x'] = 1\n",
    "\n",
    "# Lower bounds on skill deficiency:\n",
    "#mpc.bounds['lower','_z', 'z'] = 0\n",
    "# # # # Upper bounds on skill deficiency:\n",
    "#mpc.bounds['upper','_z', 'z'] = 0.2\n",
    "\n",
    "# Lower bounds on inputs:\n",
    "#mpc.bounds['lower','_u', 'u'] = 0\n",
    "# Upper bounds on inputs:\n",
    "#mpc.bounds['upper','_u', 'u'] = 1"
   ]
  },
  {
   "cell_type": "code",
   "execution_count": 73,
   "metadata": {},
   "outputs": [
    {
     "name": "stderr",
     "output_type": "stream",
     "text": [
      "C:\\Users\\ricca\\Anaconda3\\envs\\learning_analytics\\lib\\site-packages\\do_mpc\\controller.py:760: UserWarning: rterm was not set and defaults to zero. Changes in the control inputs are not penalized. Can lead to oscillatory behavior.\n",
      "  warnings.warn('rterm was not set and defaults to zero. Changes in the control inputs are not penalized. Can lead to oscillatory behavior.')\n"
     ]
    }
   ],
   "source": [
    "mpc.setup()\n"
   ]
  },
  {
   "cell_type": "code",
   "execution_count": 74,
   "metadata": {},
   "outputs": [],
   "source": [
    "simulator = do_mpc.simulator.Simulator(model)\n",
    "simulator.set_param(t_step=1)"
   ]
  },
  {
   "cell_type": "code",
   "execution_count": 75,
   "metadata": {},
   "outputs": [],
   "source": [
    "simulator.setup()\n"
   ]
  },
  {
   "cell_type": "code",
   "execution_count": 76,
   "metadata": {},
   "outputs": [],
   "source": [
    "estimator = do_mpc.estimator.StateFeedback(model)\n",
    "x0 = students[4]\n",
    "mpc.x0 = x0\n",
    "simulator.x0 = x0\n",
    "estimator.x0 = x0\n",
    "mpc.set_initial_guess()"
   ]
  },
  {
   "cell_type": "code",
   "execution_count": 77,
   "metadata": {},
   "outputs": [],
   "source": [
    "%%capture                \n",
    "for i in range(20):\n",
    "    u0 = mpc.make_step(x0)\n",
    "    y_next = simulator.make_step(u0)\n",
    "    x0 = estimator.make_step(y_next)"
   ]
  },
  {
   "cell_type": "code",
   "execution_count": 78,
   "metadata": {},
   "outputs": [],
   "source": [
    "from matplotlib import rcParams\n",
    "rcParams['axes.grid'] = True\n",
    "rcParams['font.size'] = 18"
   ]
  },
  {
   "cell_type": "code",
   "execution_count": 79,
   "metadata": {
    "pycharm": {
     "name": "#%%\n"
    }
   },
   "outputs": [
    {
     "data": {
      "image/png": "[encoded data removed]",
      "text/plain": [
       "<Figure size 1152x648 with 4 Axes>"
      ]
     },
     "metadata": {
      "needs_background": "light"
     },
     "output_type": "display_data"
    }
   ],
   "source": [
    "import matplotlib.pyplot as plt\n",
    "fig, ax, graphics = do_mpc.graphics.default_plot(mpc.data, figsize=(16,9))\n",
    "graphics.reset_axes()\n",
    "graphics.plot_results()\n",
    "plt.show()\n",
    "\n"
   ]
  },
  {
   "cell_type": "code",
   "execution_count": null,
   "metadata": {},
   "outputs": [],
   "source": []
  },
  {
   "cell_type": "code",
   "execution_count": null,
   "metadata": {},
   "outputs": [],
   "source": []
  }
 ],
 "metadata": {
  "interpreter": {
   "hash": "2b5a3609fe7a8a824f3b4b1dbc1b71162fb0992c45f940ad0041e90957c03652"
  },
  "kernelspec": {
   "display_name": "Python 3.8.8 64-bit ('learning_analytics': conda)",
   "name": "python3"
  },
  "language_info": {
   "codemirror_mode": {
    "name": "ipython",
    "version": 3
   },
   "file_extension": ".py",
   "mimetype": "text/x-python",
   "name": "python",
   "nbconvert_exporter": "python",
   "pygments_lexer": "ipython3",
   "version": "3.8.8"
  },
  "orig_nbformat": 4
 },
 "nbformat": 4,
 "nbformat_minor": 2
}
